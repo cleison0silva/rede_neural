{
  "nbformat": 4,
  "nbformat_minor": 0,
  "metadata": {
    "colab": {
      "provenance": []
    },
    "kernelspec": {
      "name": "python3",
      "display_name": "Python 3"
    },
    "language_info": {
      "name": "python"
    }
  },
  "cells": [
    {
      "cell_type": "code",
      "source": [
        "from matplotlib import pyplot as plt\n",
        "\n",
        "def showSingleImage(img, title, size):\n",
        "    fig, axis = plt.subplots(figsize = size)\n",
        "\n",
        "    axis.imshow(img, 'gray')\n",
        "    axis.set_title(title, fontdict = {'fontsize': 20, 'fontweight': 'medium'})\n",
        "    plt.show()\n",
        "    \n",
        "def showMultipleImages(imgsArray, titlesArray, size, x, y):\n",
        "    if(x < 1 or y < 1):\n",
        "        print(\"ERRO: X e Y não podem ser zero ou abaixo de zero!\")\n",
        "        return\n",
        "    elif(x == 1 and y == 1):\n",
        "        showSingleImage(imgsArray, titlesArray)\n",
        "    elif(x == 1):\n",
        "        fig, axis = plt.subplots(y, figsize = size)\n",
        "        yId = 0\n",
        "        for img in imgsArray:\n",
        "            axis[yId].imshow(img, 'gray')\n",
        "            axis[yId].set_anchor('NW')\n",
        "            axis[yId].set_title(titlesArray[yId], fontdict = {'fontsize': 18, 'fontweight': 'medium'}, pad = 10)\n",
        "\n",
        "            yId += 1\n",
        "    elif(y == 1):\n",
        "        fig, axis = plt.subplots(1, x, figsize = size)\n",
        "        fig.suptitle(titlesArray)\n",
        "        xId = 0\n",
        "        for img in imgsArray:\n",
        "            axis[xId].imshow(img, 'gray')\n",
        "            axis[xId].set_anchor('NW')\n",
        "            axis[xId].set_title(titlesArray[xId], fontdict = {'fontsize': 18, 'fontweight': 'medium'}, pad = 10)\n",
        "\n",
        "            xId += 1\n",
        "    else:\n",
        "        fig, axis = plt.subplots(y, x, figsize = size)\n",
        "        xId, yId, titleId = 0, 0, 0\n",
        "        for img in imgsArray:\n",
        "            axis[yId, xId].set_title(titlesArray[titleId], fontdict = {'fontsize': 18, 'fontweight': 'medium'}, pad = 10)\n",
        "            axis[yId, xId].set_anchor('NW')\n",
        "            axis[yId, xId].imshow(img, 'gray')\n",
        "            if(len(titlesArray[titleId]) == 0):\n",
        "                axis[yId, xId].axis('off')\n",
        "\n",
        "            titleId += 1\n",
        "            xId += 1\n",
        "            if xId == x:\n",
        "                xId = 0\n",
        "                yId += 1\n",
        "    plt.show()"
      ],
      "metadata": {
        "id": "jdwyn-Z1VmBm"
      },
      "execution_count": 2,
      "outputs": []
    },
    {
      "cell_type": "code",
      "source": [
        "import os\n",
        "current_dir = os.path.abspath(os.getcwd())"
      ],
      "metadata": {
        "id": "5uXQ3DPzVmgm"
      },
      "execution_count": 3,
      "outputs": []
    },
    {
      "cell_type": "code",
      "source": [
        "import glob\n",
        "\n",
        "original_path = current_dir + \"\\\\train\\\\\"\n",
        "dog_img_files = glob.glob(original_path + 'dog.*')"
      ],
      "metadata": {
        "id": "XoDJT7i2b808"
      },
      "execution_count": 4,
      "outputs": []
    },
    {
      "cell_type": "code",
      "source": [
        "import random\n",
        "import cv2\n",
        "\n",
        "random_dog_imgs = [cv2.imread(img_file) for img_file in random.sample(dog_img_files, 9)]\n",
        "random_dog_imgs = [cv2.cvtColor(img, cv2.COLOR_BGR2RGB) for img in random_dog_imgs]\n",
        "titles = ['Dog ' + str(i) for i in range(9)]\n",
        "showMultipleImages(random_dog_imgs, titles, (10, 15), 3, 3)"
      ],
      "metadata": {
        "colab": {
          "base_uri": "https://localhost:8080/",
          "height": 356
        },
        "id": "LbFHFsQhb9I4",
        "outputId": "bd811ccb-eec6-4100-a1cf-10c0b285b39e"
      },
      "execution_count": 5,
      "outputs": [
        {
          "output_type": "error",
          "ename": "ValueError",
          "evalue": "ignored",
          "traceback": [
            "\u001b[0;31m---------------------------------------------------------------------------\u001b[0m",
            "\u001b[0;31mValueError\u001b[0m                                Traceback (most recent call last)",
            "\u001b[0;32m<ipython-input-5-24dc3deb941c>\u001b[0m in \u001b[0;36m<module>\u001b[0;34m\u001b[0m\n\u001b[1;32m      2\u001b[0m \u001b[0;32mimport\u001b[0m \u001b[0mcv2\u001b[0m\u001b[0;34m\u001b[0m\u001b[0;34m\u001b[0m\u001b[0m\n\u001b[1;32m      3\u001b[0m \u001b[0;34m\u001b[0m\u001b[0m\n\u001b[0;32m----> 4\u001b[0;31m \u001b[0mrandom_dog_imgs\u001b[0m \u001b[0;34m=\u001b[0m \u001b[0;34m[\u001b[0m\u001b[0mcv2\u001b[0m\u001b[0;34m.\u001b[0m\u001b[0mimread\u001b[0m\u001b[0;34m(\u001b[0m\u001b[0mimg_file\u001b[0m\u001b[0;34m)\u001b[0m \u001b[0;32mfor\u001b[0m \u001b[0mimg_file\u001b[0m \u001b[0;32min\u001b[0m \u001b[0mrandom\u001b[0m\u001b[0;34m.\u001b[0m\u001b[0msample\u001b[0m\u001b[0;34m(\u001b[0m\u001b[0mdog_img_files\u001b[0m\u001b[0;34m,\u001b[0m \u001b[0;36m9\u001b[0m\u001b[0;34m)\u001b[0m\u001b[0;34m]\u001b[0m\u001b[0;34m\u001b[0m\u001b[0;34m\u001b[0m\u001b[0m\n\u001b[0m\u001b[1;32m      5\u001b[0m \u001b[0mrandom_dog_imgs\u001b[0m \u001b[0;34m=\u001b[0m \u001b[0;34m[\u001b[0m\u001b[0mcv2\u001b[0m\u001b[0;34m.\u001b[0m\u001b[0mcvtColor\u001b[0m\u001b[0;34m(\u001b[0m\u001b[0mimg\u001b[0m\u001b[0;34m,\u001b[0m \u001b[0mcv2\u001b[0m\u001b[0;34m.\u001b[0m\u001b[0mCOLOR_BGR2RGB\u001b[0m\u001b[0;34m)\u001b[0m \u001b[0;32mfor\u001b[0m \u001b[0mimg\u001b[0m \u001b[0;32min\u001b[0m \u001b[0mrandom_dog_imgs\u001b[0m\u001b[0;34m]\u001b[0m\u001b[0;34m\u001b[0m\u001b[0;34m\u001b[0m\u001b[0m\n\u001b[1;32m      6\u001b[0m \u001b[0mtitles\u001b[0m \u001b[0;34m=\u001b[0m \u001b[0;34m[\u001b[0m\u001b[0;34m'Dog '\u001b[0m \u001b[0;34m+\u001b[0m \u001b[0mstr\u001b[0m\u001b[0;34m(\u001b[0m\u001b[0mi\u001b[0m\u001b[0;34m)\u001b[0m \u001b[0;32mfor\u001b[0m \u001b[0mi\u001b[0m \u001b[0;32min\u001b[0m \u001b[0mrange\u001b[0m\u001b[0;34m(\u001b[0m\u001b[0;36m9\u001b[0m\u001b[0;34m)\u001b[0m\u001b[0;34m]\u001b[0m\u001b[0;34m\u001b[0m\u001b[0;34m\u001b[0m\u001b[0m\n",
            "\u001b[0;32m/usr/lib/python3.7/random.py\u001b[0m in \u001b[0;36msample\u001b[0;34m(self, population, k)\u001b[0m\n\u001b[1;32m    319\u001b[0m         \u001b[0mn\u001b[0m \u001b[0;34m=\u001b[0m \u001b[0mlen\u001b[0m\u001b[0;34m(\u001b[0m\u001b[0mpopulation\u001b[0m\u001b[0;34m)\u001b[0m\u001b[0;34m\u001b[0m\u001b[0;34m\u001b[0m\u001b[0m\n\u001b[1;32m    320\u001b[0m         \u001b[0;32mif\u001b[0m \u001b[0;32mnot\u001b[0m \u001b[0;36m0\u001b[0m \u001b[0;34m<=\u001b[0m \u001b[0mk\u001b[0m \u001b[0;34m<=\u001b[0m \u001b[0mn\u001b[0m\u001b[0;34m:\u001b[0m\u001b[0;34m\u001b[0m\u001b[0;34m\u001b[0m\u001b[0m\n\u001b[0;32m--> 321\u001b[0;31m             \u001b[0;32mraise\u001b[0m \u001b[0mValueError\u001b[0m\u001b[0;34m(\u001b[0m\u001b[0;34m\"Sample larger than population or is negative\"\u001b[0m\u001b[0;34m)\u001b[0m\u001b[0;34m\u001b[0m\u001b[0;34m\u001b[0m\u001b[0m\n\u001b[0m\u001b[1;32m    322\u001b[0m         \u001b[0mresult\u001b[0m \u001b[0;34m=\u001b[0m \u001b[0;34m[\u001b[0m\u001b[0;32mNone\u001b[0m\u001b[0;34m]\u001b[0m \u001b[0;34m*\u001b[0m \u001b[0mk\u001b[0m\u001b[0;34m\u001b[0m\u001b[0;34m\u001b[0m\u001b[0m\n\u001b[1;32m    323\u001b[0m         \u001b[0msetsize\u001b[0m \u001b[0;34m=\u001b[0m \u001b[0;36m21\u001b[0m        \u001b[0;31m# size of a small set minus size of an empty list\u001b[0m\u001b[0;34m\u001b[0m\u001b[0;34m\u001b[0m\u001b[0m\n",
            "\u001b[0;31mValueError\u001b[0m: Sample larger than population or is negative"
          ]
        }
      ]
    },
    {
      "cell_type": "code",
      "source": [
        "# nova pasta para cachorros e gatos\n",
        "folder = \"\\\\cats_and_dogs_dataset\"\n",
        "train_folder = current_dir + folder + \"\\\\train\"\n",
        "val_folder = current_dir + folder + \"\\\\validation\"\n",
        "test_folder = current_dir + folder + \"\\\\test\""
      ],
      "metadata": {
        "id": "ljucLwp1b-eA"
      },
      "execution_count": null,
      "outputs": []
    },
    {
      "cell_type": "code",
      "source": [
        "import os\n",
        "\n",
        "os.mkdir(current_dir + folder) #nova pasta \n",
        "os.mkdir(train_folder) #treino\n",
        "os.mkdir(val_folder) #validação\n",
        "os.mkdir(test_folder) #teste\n",
        "\n",
        "new_folder_train_dogs = train_folder + \"\\\\dogs\"\n",
        "new_folder_train_cats = train_folder + \"\\\\cats\"\n",
        "new_folder_val_dogs = val_folder + \"\\\\dogs\"\n",
        "new_folder_val_cats = val_folder + \"\\\\cats\"\n",
        "new_folder_test_dogs = test_folder + \"\\\\dogs\"\n",
        "new_folder_test_cats = test_folder + \"\\\\cats\"\n",
        "\n",
        "os.mkdir(new_folder_train_dogs)\n",
        "os.mkdir(new_folder_train_cats)\n",
        "os.mkdir(new_folder_val_dogs)\n",
        "os.mkdir(new_folder_val_cats)\n",
        "os.mkdir(new_folder_test_dogs)\n",
        "os.mkdir(new_folder_test_cats)"
      ],
      "metadata": {
        "id": "UTxuZ7P6cEVg"
      },
      "execution_count": null,
      "outputs": []
    },
    {
      "cell_type": "code",
      "source": [
        "import shutil\n",
        "\n",
        "percent_val = 0.10\n",
        "percent_test = 0.20\n",
        "\n",
        "def moveImagesToCorrectFolder():\n",
        "    dog_train_files = glob.glob(original_path + 'dog.*')\n",
        "    cat_train_files = glob.glob(original_path + 'cat.*')\n",
        "\n",
        "    for f in dog_train_files:\n",
        "        rand_val = random.random()\n",
        "        filename = f.split(\"\\\\\")[-1] \n",
        "        if rand_val <= percent_val: \n",
        "            shutil.move(f, new_folder_val_dogs + \"\\\\\" + filename)\n",
        "        elif rand_val > percent_val and rand_val <= percent_val + percent_test:\n",
        "            shutil.move(f, new_folder_test_dogs + \"\\\\\" + filename) \n",
        "        else:\n",
        "            shutil.move(f, new_folder_train_dogs + \"\\\\\" + filename)\n",
        "\n",
        "    for f in cat_train_files:\n",
        "        rand_val = random.random()\n",
        "        filename = f.split(\"\\\\\")[-1] \n",
        "        if rand_val <= percent_val: \n",
        "            shutil.move(f, new_folder_val_cats + \"\\\\\" + filename) \n",
        "        elif rand_val > percent_val and rand_val <= percent_val + percent_test:\n",
        "            shutil.move(f, new_folder_test_cats + \"\\\\\" + filename) \n",
        "        else:\n",
        "            shutil.move(f, new_folder_train_cats + \"\\\\\" + filename) \n",
        "        \n",
        "moveImagesToCorrectFolder()\n",
        "os.rmdir(original_path)"
      ],
      "metadata": {
        "id": "xZq9FZg3cHIM"
      },
      "execution_count": null,
      "outputs": []
    }
  ]
}